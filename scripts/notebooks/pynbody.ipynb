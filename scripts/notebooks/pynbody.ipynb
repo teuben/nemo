{
 "cells": [
  {
   "cell_type": "markdown",
   "id": "67fb6bdb",
   "metadata": {},
   "source": [
    "# pynbody for NEMO users\n",
    "\n",
    "In this notebook we will demonstrate some of the ways how  [pynbody](https://pynbody.readthedocs.io/latest/)\n",
    "and NEMO can exchange data. Since NEMO works normally in a shell, and **pynbody** in a python environment, this notebook is thus somewhat limited in showing the full potential, since the cells need to be executed separately.\n",
    "\n",
    "\n",
    "\n",
    "Make sure you start this notebook with NEMO preloaded in your shell, else the **%%bash** cells will (not easily) work. \n",
    "\n",
    "## 1. Check if NEMO is loaded\n",
    "\n",
    "First, two sanity checks.  Is NEMO loaded. Is pynbody available?\n",
    "\n",
    "If not, you may need to know where NEMO was installed and do something like \n",
    "```\n",
    "        source $HOME/NEMO/nemo/nemo_start.sh\n",
    "or:\n",
    "        [ -e ~/.nemorc ] && source ~/.nemorc && source $NEMO/nemo_start.sh\n",
    "           \n",
    "```\n",
    "in each bash cell.   But be aware NEMO might also load another python not commensurable with pynbody... YMMV, as they say."
   ]
  },
  {
   "cell_type": "code",
   "execution_count": null,
   "id": "e4973fcb",
   "metadata": {},
   "outputs": [],
   "source": [
    "%%bash\n",
    "\n",
    "nemo"
   ]
  },
  {
   "cell_type": "markdown",
   "id": "5c71356e-88b0-4d14-b708-7394dd6a6bbc",
   "metadata": {},
   "source": [
    "**NOTE**: if the previous cell did not work, re-read the instruction before again, or else start the notebook after NEMO was loaded in the shell."
   ]
  },
  {
   "cell_type": "markdown",
   "id": "91528bcb-96eb-4449-9843-7ef25f5e068d",
   "metadata": {},
   "source": [
    "## 2. Check is pynbody is present\n",
    "\n",
    "Check if **pynbody** can be imported, and where it's located."
   ]
  },
  {
   "cell_type": "code",
   "execution_count": null,
   "id": "c7f50508",
   "metadata": {},
   "outputs": [],
   "source": [
    "import pynbody\n",
    "print(pynbody.__file__)"
   ]
  },
  {
   "cell_type": "markdown",
   "id": "50d79ee0-f89a-44ca-8218-fffbe0c02c5d",
   "metadata": {},
   "source": [
    "If pynbody was not loaded, it needs to be pip installed. \n",
    "```\n",
    "    pip install pynbody\n",
    "   \n",
    "```\n",
    "You can probably do that from within this notebook."
   ]
  },
  {
   "cell_type": "markdown",
   "id": "c82dec35-b2c5-4a36-bfa4-216efbc3a420",
   "metadata": {},
   "source": [
    "## 3. more to come"
   ]
  },
  {
   "cell_type": "code",
   "execution_count": null,
   "id": "14f45d5c-0f1a-4989-97cd-7824a7977ecf",
   "metadata": {},
   "outputs": [],
   "source": []
  }
 ],
 "metadata": {
  "kernelspec": {
   "display_name": "Python 3 (ipykernel)",
   "language": "python",
   "name": "python3"
  },
  "language_info": {
   "codemirror_mode": {
    "name": "ipython",
    "version": 3
   },
   "file_extension": ".py",
   "mimetype": "text/x-python",
   "name": "python",
   "nbconvert_exporter": "python",
   "pygments_lexer": "ipython3",
   "version": "3.12.4"
  }
 },
 "nbformat": 4,
 "nbformat_minor": 5
}
