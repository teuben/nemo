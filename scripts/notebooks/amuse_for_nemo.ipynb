{
 "cells": [
  {
   "cell_type": "markdown",
   "id": "67fb6bdb",
   "metadata": {},
   "source": [
    "# AMUSE for NEMO users\n",
    "\n",
    "Make sure you start this notebook with NEMO preloaded in your shell, else the **%%bash** cells will not easily work. \n",
    "\n",
    "## 1. \n",
    "\n",
    "First, two sanity checks.  Is NEMO loaded. Is amuse available?"
   ]
  },
  {
   "cell_type": "code",
   "execution_count": null,
   "id": "e4973fcb",
   "metadata": {},
   "outputs": [],
   "source": [
    "%%bash\n",
    "\n",
    "nemo"
   ]
  },
  {
   "cell_type": "markdown",
   "id": "91528bcb-96eb-4449-9843-7ef25f5e068d",
   "metadata": {},
   "source": [
    "## 2.\n",
    "\n",
    "Check if **AMUSE** can be imported, and where it's located."
   ]
  },
  {
   "cell_type": "code",
   "execution_count": null,
   "id": "c7f50508",
   "metadata": {},
   "outputs": [],
   "source": [
    "import amuse\n",
    "print(amuse.__file__)"
   ]
  },
  {
   "cell_type": "markdown",
   "id": "0b7530f3-a6f8-48f4-9ad6-618306ee21eb",
   "metadata": {},
   "source": [
    "## 3.\n",
    "\n",
    "Get the modules from AMUSE we need"
   ]
  },
  {
   "cell_type": "code",
   "execution_count": null,
   "id": "6db51335",
   "metadata": {},
   "outputs": [],
   "source": [
    "from amuse.units import nbody_system\n",
    "from amuse.ic.plummer import new_plummer_model\n",
    "from amuse.community.bhtree import Bhtree\n",
    "from amuse.io import write_set_to_file\n"
   ]
  },
  {
   "cell_type": "markdown",
   "id": "a04045b7-f658-4744-907c-9bd7c2effd97",
   "metadata": {},
   "source": [
    "Create a small Plummer sphere and print the contents"
   ]
  },
  {
   "cell_type": "code",
   "execution_count": null,
   "id": "50f78ec1",
   "metadata": {},
   "outputs": [],
   "source": [
    "np.random.seed(123)\n",
    "stars = new_plummer_model(8)\n",
    "\n",
    "print(stars)"
   ]
  },
  {
   "cell_type": "code",
   "execution_count": null,
   "id": "53344219-9de3-42e5-b08d-a9ef5e7b054d",
   "metadata": {},
   "outputs": [],
   "source": [
    "Set up an nbody integrator, and evolve the system"
   ]
  },
  {
   "cell_type": "code",
   "execution_count": null,
   "id": "a5946f83-dd7f-451d-8514-aec97740242d",
   "metadata": {},
   "outputs": [],
   "source": [
    "gravity = Bhtree()\n",
    "\n",
    "eps = 0.025 | nbody_system.length\n",
    "tstop = 10  | nbody_system.time\n",
    "\n",
    "gravity.parameters.opening_angle  = 0.75\n",
    "gravity.parameters.epsilon_squared = eps * eps\n",
    "gravity.parameters.dt_dia          = 1.0      | nbody_system.time\n",
    "gravity.parameters.timestep        = 0.015625 | nbody_system.time       # 1/64\n",
    "\n",
    "stars_in_gravity = gravity.particles.add_particles(stars)\n",
    "gravity.evolve_model(tstop)\n",
    "\n"
   ]
  },
  {
   "cell_type": "code",
   "execution_count": null,
   "id": "0e703e7b-28f6-4c25-9823-9a83d417cf23",
   "metadata": {},
   "outputs": [],
   "source": [
    "# https://github.com/amusecode/amuse/issues/1121\n",
    "\n",
    "# help(gravity.parameters)"
   ]
  },
  {
   "cell_type": "markdown",
   "id": "2bcc05ef-d302-4259-834b-5123622152f0",
   "metadata": {},
   "source": [
    "Write the model to an ASCII table "
   ]
  },
  {
   "cell_type": "code",
   "execution_count": null,
   "id": "319eab10-1fff-4386-aa31-facaf2bc6c14",
   "metadata": {},
   "outputs": [],
   "source": [
    "\n",
    "write_set_to_file(stars_in_gravity, 'plummer.txt', format='txt')\n",
    "\n"
   ]
  },
  {
   "cell_type": "markdown",
   "id": "bff2676a-e28b-48aa-a011-a2a16f2d0f82",
   "metadata": {},
   "source": [
    "Back to NEMO, convert the ASCII table into a NEMO format"
   ]
  },
  {
   "cell_type": "code",
   "execution_count": null,
   "id": "f924232c-1bfa-430d-b0fb-1483eb6a6ce9",
   "metadata": {},
   "outputs": [],
   "source": [
    "%%bash\n",
    "\n",
    "head -3 plummer.txt\n",
    "\n",
    "rm -f plummer.snap\n",
    "tabcols plummer.txt | tabtos - plummer.snap block1=mass,skip,vx,vy,vz,x,y,z nbody=$(tabcols plummer.txt | wc -l)\n",
    "tsf plummer.snap\n"
   ]
  },
  {
   "cell_type": "code",
   "execution_count": null,
   "id": "5a8a3f25-a4b0-4367-96c3-84b1736916c1",
   "metadata": {},
   "outputs": [],
   "source": []
  },
  {
   "cell_type": "code",
   "execution_count": null,
   "id": "f2f8eec2-6a6e-48df-8cb4-8897932ebda2",
   "metadata": {},
   "outputs": [],
   "source": []
  },
  {
   "cell_type": "code",
   "execution_count": null,
   "id": "94d8e9a6-d359-4a4e-b015-8aee46e55abe",
   "metadata": {},
   "outputs": [],
   "source": []
  }
 ],
 "metadata": {
  "kernelspec": {
   "display_name": "Python 3 (ipykernel)",
   "language": "python",
   "name": "python3"
  },
  "language_info": {
   "codemirror_mode": {
    "name": "ipython",
    "version": 3
   },
   "file_extension": ".py",
   "mimetype": "text/x-python",
   "name": "python",
   "nbconvert_exporter": "python",
   "pygments_lexer": "ipython3",
   "version": "3.12.7"
  }
 },
 "nbformat": 4,
 "nbformat_minor": 5
}
