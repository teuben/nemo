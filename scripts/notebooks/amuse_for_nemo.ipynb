{
 "cells": [
  {
   "cell_type": "markdown",
   "id": "67fb6bdb",
   "metadata": {},
   "source": [
    "# AMUSE for NEMO users\n",
    "\n",
    "Make sure you start this notebook with NEMO preloaded in your shell, else the **%%bash** cells will not easily work. \n",
    "\n",
    "First, two sanity checks.  Is NEMO loaded. Is amuse available?"
   ]
  },
  {
   "cell_type": "code",
   "execution_count": null,
   "id": "e4973fcb",
   "metadata": {},
   "outputs": [],
   "source": [
    "%%bash\n",
    "\n",
    "nemo"
   ]
  },
  {
   "cell_type": "code",
   "execution_count": null,
   "id": "1d78d9cb",
   "metadata": {},
   "outputs": [],
   "source": [
    "import numpy as np"
   ]
  },
  {
   "cell_type": "code",
   "execution_count": null,
   "id": "c7f50508",
   "metadata": {},
   "outputs": [],
   "source": [
    "import amuse"
   ]
  },
  {
   "cell_type": "code",
   "execution_count": null,
   "id": "6db51335",
   "metadata": {},
   "outputs": [],
   "source": []
  },
  {
   "cell_type": "code",
   "execution_count": null,
   "id": "50f78ec1",
   "metadata": {},
   "outputs": [],
   "source": []
  }
 ],
 "metadata": {
  "kernelspec": {
   "display_name": "Python 3 (ipykernel)",
   "language": "python",
   "name": "python3"
  },
  "language_info": {
   "codemirror_mode": {
    "name": "ipython",
    "version": 3
   },
   "file_extension": ".py",
   "mimetype": "text/x-python",
   "name": "python",
   "nbconvert_exporter": "python",
   "pygments_lexer": "ipython3",
   "version": "3.9.12"
  }
 },
 "nbformat": 4,
 "nbformat_minor": 5
}
